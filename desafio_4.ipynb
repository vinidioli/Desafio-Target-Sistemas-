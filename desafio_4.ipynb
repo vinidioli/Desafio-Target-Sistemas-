{
 "cells": [
  {
   "cell_type": "code",
   "execution_count": 39,
   "metadata": {},
   "outputs": [
    {
     "name": "stdout",
     "output_type": "stream",
     "text": [
      "A representaçaõ de cada estado em porcentegem: [['SP', 37.52845624346716], ['RJ', 20.291360952794975], ['MG', 16.170548370275323], ['ES', 15.028481414968068], ['Outros', 10.981153018494469]] por sigla de estado\n"
     ]
    }
   ],
   "source": [
    "import pandas as pd\n",
    "\n",
    "dados = pd.read_excel(\"dados_ex4.xlsx\")\n",
    "\n",
    "total = sum(dados['Valor'])\n",
    "\n",
    "dados_estado = dados['Estado']\n",
    "dados_valor = dados['Valor']\n",
    "\n",
    "representacao= []\n",
    "\n",
    "for i in range(len(dados)):\n",
    "    representacao.append([dados_estado[i], (dados_valor[i]*100)/total])\n",
    "\n",
    "print(f\"A representaçaõ de cada estado em porcentegem: {representacao} por sigla de estado\")"
   ]
  }
 ],
 "metadata": {
  "kernelspec": {
   "display_name": "gpu_env",
   "language": "python",
   "name": "python3"
  },
  "language_info": {
   "codemirror_mode": {
    "name": "ipython",
    "version": 3
   },
   "file_extension": ".py",
   "mimetype": "text/x-python",
   "name": "python",
   "nbconvert_exporter": "python",
   "pygments_lexer": "ipython3",
   "version": "3.10.6"
  },
  "orig_nbformat": 4,
  "vscode": {
   "interpreter": {
    "hash": "c2b9143add5daedc86ea48d703f71c1da761d8262d142e5faf3ce8739c19d414"
   }
  }
 },
 "nbformat": 4,
 "nbformat_minor": 2
}
