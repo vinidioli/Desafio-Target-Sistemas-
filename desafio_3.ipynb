{
 "cells": [
  {
   "cell_type": "code",
   "execution_count": 16,
   "metadata": {},
   "outputs": [
    {
     "name": "stdout",
     "output_type": "stream",
     "text": [
      "No dia 4 ocorreu o MENOR valor: 0.0\n",
      "No dia 16 ocorreu o MAIOR valor: 48924.2448\n",
      "A media é: 20865.3702 e a quantidade de valores acima da média: 10\n"
     ]
    }
   ],
   "source": [
    "import pandas as pd\n",
    "\n",
    "dados = pd.read_json(\"dados.json\")\n",
    "\n",
    "#inicia o menor_valor com o primeiro valor da sequencia\n",
    "dia_dados = dados['dia']\n",
    "valor_dados = dados['valor']\n",
    "\n",
    "maior_valor = valor_dados[0]\n",
    "dia_maior_valor = 0\n",
    "menor_valor = valor_dados[0]\n",
    "dia_menor_valor = 0\n",
    "contador = 0\n",
    "valores_acima_media = 0\n",
    "media = 0\n",
    "\n",
    "for i in range(len(valor_dados)): \n",
    "    if(valor_dados[i] != 0):\n",
    "        media += valor_dados[i]\n",
    "        contador += 1\n",
    "\n",
    "media = media/contador\n",
    "\n",
    "for i in range(len(dados)):\n",
    "    if(valor_dados[i] < menor_valor):\n",
    "        menor_valor = valor_dados[i]\n",
    "        dia_menor_valor = dia_dados[i]\n",
    "\n",
    "    if(valor_dados[i] > maior_valor):\n",
    "        maior_valor = valor_dados[i]\n",
    "        dia_maior_valor = dia_dados[i]\n",
    "\n",
    "    if(valor_dados[i] > media):\n",
    "        valores_acima_media += 1\n",
    "\n",
    "print(f\"No dia {dia_menor_valor} ocorreu o MENOR valor: {menor_valor}\")\n",
    "print(f\"No dia {dia_maior_valor} ocorreu o MAIOR valor: {maior_valor}\")\n",
    "print(f\"A media é: {media:.4f} e a quantidade de valores acima da média: {valores_acima_media}\")\n"
   ]
  }
 ],
 "metadata": {
  "kernelspec": {
   "display_name": "gpu_env",
   "language": "python",
   "name": "python3"
  },
  "language_info": {
   "codemirror_mode": {
    "name": "ipython",
    "version": 3
   },
   "file_extension": ".py",
   "mimetype": "text/x-python",
   "name": "python",
   "nbconvert_exporter": "python",
   "pygments_lexer": "ipython3",
   "version": "3.10.6"
  },
  "orig_nbformat": 4,
  "vscode": {
   "interpreter": {
    "hash": "c2b9143add5daedc86ea48d703f71c1da761d8262d142e5faf3ce8739c19d414"
   }
  }
 },
 "nbformat": 4,
 "nbformat_minor": 2
}
