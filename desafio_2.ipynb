{
 "cells": [
  {
   "cell_type": "code",
   "execution_count": null,
   "metadata": {},
   "outputs": [],
   "source": [
    "def fibonacci(n):   \t\n",
    "    fib = [0, 1]\n",
    "    resultado = 0\n",
    "\n",
    "    if(n == 0):\n",
    "        resultado = -1\n",
    "    elif(n == 1):\n",
    "        fib = [0]\n",
    "        resultado = -1\n",
    "\n",
    "    try: \n",
    "        for i in range(2, n+6):\n",
    "            fib.insert(i, fib[-2] + fib[-1])\n",
    "            if(fib[i] == n):\n",
    "                resultado = -1\n",
    "                break\n",
    "            elif(fib[i] > n):\n",
    "                break\n",
    "    except:\n",
    "        print()\n",
    "    if (resultado == 0):\n",
    "        retorno = \"O número NÃO pertence a sequencia\"\n",
    "    elif(resultado == -1):\n",
    "        retorno = \"O número PERTENCE a sequência\"\n",
    "\n",
    "    return retorno\n",
    "\n",
    "fibonacci(1324695516964754142521850507284930515811378128425638237225)"
   ]
  }
 ],
 "metadata": {
  "kernelspec": {
   "display_name": "base",
   "language": "python",
   "name": "python3"
  },
  "language_info": {
   "codemirror_mode": {
    "name": "ipython",
    "version": 3
   },
   "file_extension": ".py",
   "mimetype": "text/x-python",
   "name": "python",
   "nbconvert_exporter": "python",
   "pygments_lexer": "ipython3",
   "version": "3.9.12"
  },
  "orig_nbformat": 4,
  "vscode": {
   "interpreter": {
    "hash": "a5d6c2be6262c78dadbf075e7ed7eef3fc1090c1044fdcff36d11e01ba01e819"
   }
  }
 },
 "nbformat": 4,
 "nbformat_minor": 2
}
