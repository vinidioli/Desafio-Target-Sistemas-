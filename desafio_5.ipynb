{
 "cells": [
  {
   "cell_type": "code",
   "execution_count": 6,
   "metadata": {},
   "outputs": [
    {
     "data": {
      "text/plain": [
       "'arvalaP'"
      ]
     },
     "execution_count": 6,
     "metadata": {},
     "output_type": "execute_result"
    }
   ],
   "source": [
    "def reverte_string(palavra):\n",
    "    palavra_reversa = ''\n",
    "    for i in range(1, len(palavra)+1):\n",
    "        palavra_reversa = palavra_reversa + palavra[-i]\n",
    "    return palavra_reversa\n",
    "\n",
    "reverte_string('Palavra')"
   ]
  }
 ],
 "metadata": {
  "kernelspec": {
   "display_name": "gpu_env",
   "language": "python",
   "name": "python3"
  },
  "language_info": {
   "codemirror_mode": {
    "name": "ipython",
    "version": 3
   },
   "file_extension": ".py",
   "mimetype": "text/x-python",
   "name": "python",
   "nbconvert_exporter": "python",
   "pygments_lexer": "ipython3",
   "version": "3.10.6"
  },
  "orig_nbformat": 4,
  "vscode": {
   "interpreter": {
    "hash": "c2b9143add5daedc86ea48d703f71c1da761d8262d142e5faf3ce8739c19d414"
   }
  }
 },
 "nbformat": 4,
 "nbformat_minor": 2
}
